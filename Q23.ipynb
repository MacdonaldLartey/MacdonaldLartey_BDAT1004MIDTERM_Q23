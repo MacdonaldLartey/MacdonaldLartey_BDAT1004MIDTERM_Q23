{
 "cells": [
  {
   "cell_type": "code",
   "execution_count": 17,
   "id": "29243d94",
   "metadata": {},
   "outputs": [],
   "source": [
    "def tough(indentation, number):\n",
    "    if number == 0:  #This is the recursive function's base case.\n",
    "\n",
    "        print(\" \")\n",
    "    else:\n",
    "        tough(indentation, number//2);  #using half the amount of calls to the function above in recursion\n",
    "        print(\" \" * indentation + \"*\" * number); # at this phase it prints indented stars\n",
    "        tough(indentation + 1, number//2); #raises the indentation value by one and calls the lines below"
   ]
  },
  {
   "cell_type": "code",
   "execution_count": 18,
   "id": "88cc45ca",
   "metadata": {},
   "outputs": [
    {
     "name": "stdout",
     "output_type": "stream",
     "text": [
      " \n"
     ]
    }
   ],
   "source": [
    "tough(0, 0)"
   ]
  },
  {
   "cell_type": "code",
   "execution_count": 19,
   "id": "7829bc15",
   "metadata": {},
   "outputs": [
    {
     "name": "stdout",
     "output_type": "stream",
     "text": [
      " \n",
      "*\n",
      " \n"
     ]
    }
   ],
   "source": [
    "tough(0, 1)"
   ]
  },
  {
   "cell_type": "code",
   "execution_count": 20,
   "id": "3e0829b9",
   "metadata": {},
   "outputs": [
    {
     "name": "stdout",
     "output_type": "stream",
     "text": [
      " \n",
      "*\n",
      " \n",
      "**\n",
      " \n",
      " *\n",
      " \n"
     ]
    }
   ],
   "source": [
    "tough(0, 2)"
   ]
  },
  {
   "cell_type": "code",
   "execution_count": 21,
   "id": "46121a23",
   "metadata": {},
   "outputs": [
    {
     "name": "stdout",
     "output_type": "stream",
     "text": [
      " \n",
      "*\n",
      " \n",
      "**\n",
      " \n",
      " *\n",
      " \n",
      "****\n",
      " \n",
      " *\n",
      " \n",
      " **\n",
      " \n",
      "  *\n",
      " \n"
     ]
    }
   ],
   "source": [
    "tough(0, 4)"
   ]
  },
  {
   "cell_type": "code",
   "execution_count": null,
   "id": "f30c2b02",
   "metadata": {},
   "outputs": [],
   "source": []
  }
 ],
 "metadata": {
  "kernelspec": {
   "display_name": "Python 3 (ipykernel)",
   "language": "python",
   "name": "python3"
  },
  "language_info": {
   "codemirror_mode": {
    "name": "ipython",
    "version": 3
   },
   "file_extension": ".py",
   "mimetype": "text/x-python",
   "name": "python",
   "nbconvert_exporter": "python",
   "pygments_lexer": "ipython3",
   "version": "3.11.7"
  }
 },
 "nbformat": 4,
 "nbformat_minor": 5
}
